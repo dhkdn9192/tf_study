{
 "cells": [
  {
   "cell_type": "markdown",
   "metadata": {},
   "source": [
    "# GAN (Generative Adversarial Network)\n",
    "----\n",
    "* 참조1 : https://www.youtube.com/watch?v=odpjk7_tGY0\n",
    "* 참조2 : https://www.slideshare.net/NaverEngineering/1-gangenerative-adversarial-network"
   ]
  },
  {
   "cell_type": "markdown",
   "metadata": {},
   "source": [
    "## Branches of ML\n",
    "----\n",
    "* Supervised Learning\n",
    "    * Discriminative Model : 입력 데이터를 각 클래스로 분류하도록 학습하는 모델\n",
    "* Unsupervised Learning\n",
    "    * Generative Model : 학습 데이터의 분포를 학습하는 모델"
   ]
  },
  {
   "cell_type": "markdown",
   "metadata": {},
   "source": [
    "## Probability Distribution\n",
    "----\n",
    "* 확률분포 (probability distribution) :\n",
    "    * 확률변수가 특정한 값을 가질 확률을 나타내는 함수. 예시로, 주사위를 던졌을 때 나오는 눈에 대한 확률변수가 있을 때, 그 변수의 확률분포는 이산균등분포가 된다. (by 위키백과)\n",
    "        * 이산 확률 분포\n",
    "        * 연속 확률 분포\n",
    "\n",
    "\n",
    "* 생성모델 (generative model)의 목표 :\n",
    "    * $p_{data}(x)$에 근접하는 $p_{model}(x)$를 찾는 것\n",
    "        * $p_{data}(x)$ : 실제 이미지의 확률분포\n",
    "        * $p_{model}(x)$ : 모델이 생성해낸 이미지들의 확률분포\n",
    "        ![image.png](attachment:image.png)"
   ]
  },
  {
   "cell_type": "markdown",
   "metadata": {},
   "source": [
    "## Intuition of GAN\n",
    "----\n",
    "\n",
    "* Discriminator\n",
    "    * real images와 fake images를 구분(binary classification)한다\n",
    "    * real images 입력시 출력이 1이 되도록 학습\n",
    "    * fake images 입력시 출력이 0이 되도록 학습\n",
    "    \n",
    "    \n",
    "* Generator\n",
    "    * 랜덤한 코드(latent code)를 입력받아 Discriminator를 속일 수 있는 fake images를 생성한다\n",
    "    \n",
    "\n"
   ]
  },
  {
   "cell_type": "code",
   "execution_count": 3,
   "metadata": {},
   "outputs": [
    {
     "name": "stdout",
     "output_type": "stream",
     "text": [
      "1.12.0\n"
     ]
    }
   ],
   "source": [
    "import numpy as np\n",
    "import tensorflow as tf\n",
    "print(tf.__version__)"
   ]
  },
  {
   "cell_type": "markdown",
   "metadata": {},
   "source": []
  }
 ],
 "metadata": {
  "kernelspec": {
   "display_name": "Python 3",
   "language": "python",
   "name": "python3"
  },
  "language_info": {
   "codemirror_mode": {
    "name": "ipython",
    "version": 3
   },
   "file_extension": ".py",
   "mimetype": "text/x-python",
   "name": "python",
   "nbconvert_exporter": "python",
   "pygments_lexer": "ipython3",
   "version": "3.6.5"
  }
 },
 "nbformat": 4,
 "nbformat_minor": 2
}
